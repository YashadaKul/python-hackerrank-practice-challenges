{
 "cells": [
  {
   "cell_type": "markdown",
   "id": "fb463ba2-86af-47eb-b623-01cd757e50f9",
   "metadata": {},
   "source": [
    "## Print Hello World!"
   ]
  },
  {
   "cell_type": "code",
   "execution_count": 5,
   "id": "0d314809-02b5-42dc-a6db-6f45582fa57e",
   "metadata": {},
   "outputs": [
    {
     "name": "stdout",
     "output_type": "stream",
     "text": [
      "Hello, World!\n"
     ]
    }
   ],
   "source": [
    "print(\"Hello, World!\")"
   ]
  },
  {
   "cell_type": "markdown",
   "id": "783fc91e-0f16-4cb3-81c8-030ff92b506c",
   "metadata": {},
   "source": [
    "## If Else Statement"
   ]
  },
  {
   "cell_type": "markdown",
   "id": "869c9563-4e16-4617-bf26-a2f8efd9d497",
   "metadata": {},
   "source": [
    "Given an integer, n , perform the following conditional actions:\n",
    "\n",
    "If n is odd, print Weird\n",
    "If n is even and in the inclusive range of  to , print Not Weird\n",
    "If n is even and in the inclusive range of  to , print Weird\n",
    "If n is even and greater than , print Not Weird\n",
    "Input Format\n",
    "\n",
    "A single line containing a positive integer,n.\n",
    "\n",
    "Constraints\n",
    " 1 <= n <= 100\n",
    "\n",
    "Output Format\n",
    "\n",
    "Print Weird if the number is weird. Otherwise, print Not Weird."
   ]
  },
  {
   "cell_type": "code",
   "execution_count": 3,
   "id": "446dd96e-5211-4568-b5a2-18926d0cb664",
   "metadata": {},
   "outputs": [
    {
     "name": "stdin",
     "output_type": "stream",
     "text": [
      " 2\n"
     ]
    },
    {
     "name": "stdout",
     "output_type": "stream",
     "text": [
      "Not Weird\n"
     ]
    }
   ],
   "source": [
    "# The user defines an input integer, n\n",
    "n = int(input().strip())\n",
    "\n",
    "# My Solution\n",
    "#First satisfy all the requirements for printing \"Weird\"\n",
    "if n % 2 != 0 or (n % 2 == 0 and 6 <= n <= 20):\n",
    "    print(\"Weird\")\n",
    "# Now satisfy all the requirements for printing \"Not Weird\"\n",
    "# We don't necessarily have to have separate lines for each requirement. We can club them all together like above.\n",
    "elif n % 2 == 0 and 2 <= n <= 5 or n > 20:\n",
    "    print(\"Not Weird\")"
   ]
  },
  {
   "cell_type": "markdown",
   "id": "0b090833-d58e-478f-8863-43a922419b8f",
   "metadata": {},
   "source": [
    "## Arithmetic Operators"
   ]
  },
  {
   "cell_type": "code",
   "execution_count": 10,
   "id": "d05ea98d-c3c0-4e94-9d24-7f1f1c7dfc3f",
   "metadata": {},
   "outputs": [],
   "source": [
    "## task\n"
   ]
  },
  {
   "cell_type": "code",
   "execution_count": 9,
   "id": "6630d188-ef27-4773-9585-38382c6c9757",
   "metadata": {},
   "outputs": [
    {
     "name": "stdin",
     "output_type": "stream",
     "text": [
      " 2\n",
      " 2\n"
     ]
    },
    {
     "name": "stdout",
     "output_type": "stream",
     "text": [
      "4\n",
      "0\n",
      "4\n"
     ]
    }
   ],
   "source": [
    "# My Solution\n",
    "# This one is rather simple. It just checks if you understand arithmetic operators. \n",
    "#The operator for plus, is \"+\", the one for minus is \"-\" \n",
    "# The operator for multiplying is \"*\". \n",
    "# While they have not asked for it, the operator for division is \"/\" and the one for floor division is \"//\"\n",
    "a = int(input())\n",
    "b = int(input())\n",
    "sum_a_b = a + b \n",
    "print(sum_a_b)\n",
    "diff_a_b = a - b\n",
    "print(diff_a_b)\n",
    "prod_a_b = a * b\n",
    "print(prod_a_b)"
   ]
  },
  {
   "cell_type": "markdown",
   "id": "236dc820-e977-4f97-80ca-c6b2eebe01ae",
   "metadata": {},
   "source": [
    "## Division"
   ]
  },
  {
   "cell_type": "markdown",
   "id": "f0a160e7-836c-46d4-9505-53e27f94ab2b",
   "metadata": {},
   "source": [
    "Task\n",
    "The provided code stub reads two integers, a and b, from STDIN.\n",
    "\n",
    "Add logic to print two lines. The first line should contain the result of integer division, a // b. The second line should contain the result of float division, a / b.\n",
    "\n",
    "No rounding or formatting is necessary."
   ]
  },
  {
   "cell_type": "code",
   "execution_count": 13,
   "id": "2c85e9d6-9800-4329-8450-e44ab8e7f8fe",
   "metadata": {},
   "outputs": [
    {
     "name": "stdin",
     "output_type": "stream",
     "text": [
      " 2\n",
      " 2\n"
     ]
    },
    {
     "name": "stdout",
     "output_type": "stream",
     "text": [
      "1\n",
      "1.0\n"
     ]
    }
   ],
   "source": [
    "# My Solution\n",
    "# This is a simple task for divisions. As mentioned in task 2, this task checks your understanding of the two types of division.\n",
    "a = int(input())\n",
    "b = int(input())\n",
    "print(a//b)\n",
    "print(a/b)"
   ]
  },
  {
   "cell_type": "markdown",
   "id": "3c2d3bd6-792d-41eb-a7ea-d6706166d036",
   "metadata": {},
   "source": [
    "## Loops"
   ]
  },
  {
   "cell_type": "markdown",
   "id": "6b6cfe06-f7da-47be-ad26-f6666b53f42f",
   "metadata": {},
   "source": [
    "This is where it starts getting a bit interesting. \n",
    "For a list of non-negative integers that are less than n, (i.e. if n = 3, then the list will be [0, 1, 2]), print the square of each number on a separate line."
   ]
  },
  {
   "cell_type": "code",
   "execution_count": 15,
   "id": "5d26c0f7-61b0-4a16-bd18-d8228fc0ea94",
   "metadata": {},
   "outputs": [
    {
     "name": "stdin",
     "output_type": "stream",
     "text": [
      " 3\n"
     ]
    },
    {
     "name": "stdout",
     "output_type": "stream",
     "text": [
      "0\n",
      "1\n",
      "4\n"
     ]
    }
   ],
   "source": [
    "n = int(input())\n",
    "    \n",
    "for i in range(0, n):\n",
    "    print(i ** 2)"
   ]
  },
  {
   "cell_type": "markdown",
   "id": "17a9d246-3f74-4f1a-be54-ff6259886f3c",
   "metadata": {},
   "source": [
    "## Write a function"
   ]
  },
  {
   "cell_type": "markdown",
   "id": "057370a4-d41b-4097-9f04-de2572204c14",
   "metadata": {},
   "source": [
    "I found this practice session particularly interesting. \n",
    "An extra day is added to the calendar almost every four years as February 29, and the day is called a leap day. It corrects the calendar for the fact that our planet takes approximately 365.25 days to orbit the sun. A leap year contains a leap day.\n",
    "\n",
    "In the Gregorian calendar, three conditions are used to identify leap years:\n",
    "\n",
    "The year can be evenly divided by 4, is a leap year, unless:\n",
    "The year can be evenly divided by 100, it is NOT a leap year, unless:\n",
    "The year is also evenly divisible by 400. Then it is a leap year.\n",
    "This means that in the Gregorian calendar, the years 2000 and 2400 are leap years, while 1800, 1900, 2100, 2200, 2300 and 2500 are NOT leap years. Source\n",
    "\n",
    "#### Task\n",
    "\n",
    "Given a year, determine whether it is a leap year. If it is a leap year, return the Boolean True, otherwise return False.\n",
    "\n",
    "Note that the code stub provided reads from STDIN and passes arguments to the is_leap function. It is only necessary to complete the is_leap function."
   ]
  },
  {
   "cell_type": "code",
   "execution_count": 17,
   "id": "e92a66d7-f0cb-4183-b689-c8f218c04a5c",
   "metadata": {},
   "outputs": [
    {
     "name": "stdin",
     "output_type": "stream",
     "text": [
      " 2000\n"
     ]
    },
    {
     "name": "stdout",
     "output_type": "stream",
     "text": [
      "True\n"
     ]
    }
   ],
   "source": [
    "def is_leap(year):\n",
    "#We can start by assuming that a given year is not a leap year and then work our way to conditions that can alter this assumption.\n",
    "    leap = False \n",
    "    if (year % 4 == 0 and year % 100 != 0) or (year % 400 == 0):\n",
    "# Above we break down the conditions and also club some of them together. \n",
    "        leap = True \n",
    "    return leap\n",
    "year = int(input())\n",
    "print(is_leap(year))"
   ]
  },
  {
   "cell_type": "markdown",
   "id": "4535fe16-e6cc-406c-9e90-ee5a58b93011",
   "metadata": {},
   "source": [
    "## Print Function"
   ]
  },
  {
   "cell_type": "markdown",
   "id": "56510530-60c1-4727-9887-34857a60a67f",
   "metadata": {},
   "source": [
    "Read an integer,n, from STDIN and without using any string methods, try to print the following:\n",
    "1,2,3...n\n",
    "Note that \"...\" represents the consecutive values in between."
   ]
  },
  {
   "cell_type": "code",
   "execution_count": 18,
   "id": "dd688786-6ad8-4294-a415-af3ea9cb696b",
   "metadata": {},
   "outputs": [
    {
     "name": "stdin",
     "output_type": "stream",
     "text": [
      " 3\n"
     ]
    },
    {
     "name": "stdout",
     "output_type": "stream",
     "text": [
      "123"
     ]
    }
   ],
   "source": [
    "n = int(input())\n",
    "    \n",
    "for i in range(0, n):\n",
    "    print(i+1, end=\"\")\n",
    "# Basically, we want to print all integers till n startig from 0. So here we use range().  Remembers in range, the first value\n",
    "# defines the start of the sequence, but the second value is excludive of the sequence. So the sequence will stop at one value before.\n",
    "# end=\"\" makes sure that all the values from each iteration are printed on the same line. "
   ]
  },
  {
   "cell_type": "markdown",
   "id": "8ca1093f-2802-4f6e-92e1-01e8a3498858",
   "metadata": {},
   "source": [
    "## List Comprehensions"
   ]
  },
  {
   "cell_type": "markdown",
   "id": "e01b38b2-de18-45ab-ba18-131eb45ff04b",
   "metadata": {},
   "source": [
    "Earlier we practiced loops. With list comprehensions, we can iterate by using shorter code. \n",
    "In a list comprehension there are 3 parts: outcome, for in range, and an optional if condition.\n",
    "list_comp = [\"outcome\" \"for value in iterable\" \"if condition\"]\n",
    "<p>Task:\n",
    "You are given three integers x, y and z representing the dimensions of a cuboid along with an integer n . Print a list of all possible coordinates given by (i, j, k) on a 3D grid where the sum of (i + j + k) is not equal to n. \n",
    "<p>Here, 0 <= i <= x; 0<= j <= y; 0 <= k <= z. \n",
    "<p></p>Please use list comprehensions rather than multiple loops, as a learning exercise.\n"
   ]
  },
  {
   "cell_type": "code",
   "execution_count": 1,
   "id": "79b3c4ee-a7b6-45a9-bcc1-a634e63684c5",
   "metadata": {},
   "outputs": [
    {
     "name": "stdin",
     "output_type": "stream",
     "text": [
      " 1\n",
      " 1\n",
      " 2\n",
      " 2\n"
     ]
    },
    {
     "name": "stdout",
     "output_type": "stream",
     "text": [
      "[[0, 0, 0], [0, 0, 1], [0, 1, 0], [0, 1, 2], [1, 0, 0], [1, 0, 2], [1, 1, 1], [1, 1, 2]]\n"
     ]
    }
   ],
   "source": [
    "# My Solution\n",
    "# At first the task seems quite complicated, but the solution is rather simple. \n",
    "# First we define all the input integers.\n",
    "x = int(input())\n",
    "y = int(input())\n",
    "z = int(input())\n",
    "n = int(input())\n",
    "    \n",
    "# The condition in the task tells us that i is less than equal to x etc. That tells us how to define the range for the iteration. \n",
    "# Then we simply follow the syntax for a list comprehension and create the list\n",
    "list_l = [[i, j, k] for i in range(0, x+1) for j in range(0, y +1) for k in range(0, z + 1) if i + j+ k != n]\n",
    "print(list_l)"
   ]
  },
  {
   "cell_type": "markdown",
   "id": "da03c8d5-79cc-4c0e-8e69-99d793dc86fd",
   "metadata": {},
   "source": [
    "## Find the runner up score"
   ]
  },
  {
   "cell_type": "markdown",
   "id": "cefc9a09-3d74-400a-8509-f3e645aa9a07",
   "metadata": {},
   "source": [
    "Given the participants' score sheet for your University Sports Day, you are required to find the runner-up score. You are given n scores. Store them in a list and find the score of the runner-up.\n",
    "\n",
    "#### Input Format\n",
    "\n",
    "The first line contains n. The second line contains an array A[] of n integers each separated by a space.\n",
    "\n",
    "#### Constraints\n",
    "2 <= n <= 10\n",
    "-100 <= A[i] <= 100\n",
    "\n"
   ]
  },
  {
   "cell_type": "code",
   "execution_count": 3,
   "id": "0ed6bdab-f713-4dfb-8e65-e6ea26b53fca",
   "metadata": {},
   "outputs": [
    {
     "name": "stdin",
     "output_type": "stream",
     "text": [
      " 3\n",
      " 1 2 3\n"
     ]
    },
    {
     "name": "stdout",
     "output_type": "stream",
     "text": [
      "2\n"
     ]
    }
   ],
   "source": [
    "# My Solution\n",
    "# Since we are supposed to find the runner up score, we can't use min, or max. We will need to sort the list first and identify the \n",
    "# score that comes second from last.\n",
    "\n",
    "#Here user defines input\n",
    "if __name__ == '__main__':\n",
    "    n = int(input())\n",
    "#User inputs the scores\n",
    "    arr = map(int, input().split())\n",
    "#Convert it into a set to remove duplicates and then convert to list\n",
    "    arr_set = set(arr)\n",
    "    arr_set_list = list(arr_set)\n",
    "#Make sure to sort it\n",
    "    arr_set_list\n",
    "#Print\n",
    "    print(arr_set_list[-2])"
   ]
  },
  {
   "cell_type": "markdown",
   "id": "48ee4fe6-ac97-417f-880e-e3769b28f7dc",
   "metadata": {},
   "source": [
    "## Nested Lists"
   ]
  },
  {
   "cell_type": "markdown",
   "id": "5a097b32-4f7d-42b3-b500-455dd1f0e01c",
   "metadata": {},
   "source": [
    "Given the names and grades for each student in a class of  students, store them in a nested list and print the name(s) of any student(s) having the second lowest grade.\n",
    "\n",
    "Note: If there are multiple students with the second lowest grade, order their names alphabetically and print each name on a new line.\n",
    "\n",
    "Example\n",
    "records = [[\"chi\", 20.0], [\"beta\", 50.0], [\"alpha\", 50.0]]\n",
    "\n",
    "The ordered list of scores is [20.0, 50.0], so the second lowest score is 50.0 . There are two students with that score:[\"beta\", \"alpha\"] . Ordered alphabetically, the names are printed as:\n",
    "<p> alpha\n",
    "<p></p>beta"
   ]
  },
  {
   "cell_type": "code",
   "execution_count": 4,
   "id": "f8f5aba0-1322-49a5-9820-93647b3b3efc",
   "metadata": {},
   "outputs": [
    {
     "name": "stdin",
     "output_type": "stream",
     "text": [
      " 3\n",
      " yk\n",
      " 20\n",
      " at\n",
      " 30\n",
      " ot\n",
      " 25\n"
     ]
    },
    {
     "name": "stdout",
     "output_type": "stream",
     "text": [
      "ot\n"
     ]
    }
   ],
   "source": [
    "#Start the conditional\n",
    "if __name__ == '__main__':\n",
    "# Create empty lists to hold the values\n",
    "    name_list = []\n",
    "    score_list = []\n",
    "    records = []\n",
    "#Start the loop\n",
    "    for _ in range(int(input())):\n",
    "#Input the names and scores\n",
    "        name = input()\n",
    "        score = float(input())\n",
    "#As the code iterates through, append the values in the respective lists\n",
    "        records.append([name, score])\n",
    "        name_list.append(name)\n",
    "        score_list.append(score)\n",
    "#Create a score list and make sure to sort it\n",
    "    score_list = list(set(score_list))\n",
    "    score_list.sort()\n",
    "#Identify the second lowest score\n",
    "    second_lowest = score_list[1]\n",
    "#Write a list comprehension to check the original records against the second lowest score and print only if it meets the condition\n",
    "    out = [i[0] for i in records if i[1] == second_lowest]\n",
    "    out.sort()\n",
    "    for i in out:\n",
    "        print(i)"
   ]
  },
  {
   "cell_type": "markdown",
   "id": "d7177610-715a-4aff-8289-65b77c6bad96",
   "metadata": {},
   "source": [
    "## END"
   ]
  }
 ],
 "metadata": {
  "kernelspec": {
   "display_name": "Python 3 (ipykernel)",
   "language": "python",
   "name": "python3"
  },
  "language_info": {
   "codemirror_mode": {
    "name": "ipython",
    "version": 3
   },
   "file_extension": ".py",
   "mimetype": "text/x-python",
   "name": "python",
   "nbconvert_exporter": "python",
   "pygments_lexer": "ipython3",
   "version": "3.12.7"
  }
 },
 "nbformat": 4,
 "nbformat_minor": 5
}
